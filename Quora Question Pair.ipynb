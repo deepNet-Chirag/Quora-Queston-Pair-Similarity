{
 "cells": [
  {
   "cell_type": "markdown",
   "id": "raised-milwaukee",
   "metadata": {},
   "source": [
    "# Importing Library"
   ]
  },
  {
   "cell_type": "code",
   "execution_count": 1,
   "id": "magnetic-smooth",
   "metadata": {},
   "outputs": [],
   "source": [
    "import warnings\n",
    "warnings.filterwarnings(\"ignore\") # not display warnings \n",
    "import numpy as np \n",
    "import pandas as pd \n",
    "import matplotlib.pyplot as plt\n",
    "import seaborn as sns # \n",
    "sns.set()\n",
    "# nltk = natural language tool kit\n",
    "from nltk.corpus import stopwords # unimportant words\n",
    "from sklearn.feature_extraction.text import TfidfVectorizer # words to vector\n",
    "from nltk.stem.snowball import SnowballStemmer # action words to pronouns\n",
    "from sklearn.preprocessing import StandardScaler # standardization (0, 1)\n",
    "from sklearn.model_selection import train_test_split # divide data in 2 parts\n",
    "from sklearn.metrics import confusion_matrix , accuracy_score , f1_score\n",
    "from sklearn.decomposition import TruncatedSVD # Dimentionality Reduction\n",
    "from tqdm import tqdm # display processing status\n",
    "import re # regular experession \n",
    "# models / algorithms\n",
    "from sklearn.linear_model import LogisticRegression \n",
    "from sklearn.svm import LinearSVC , SVC\n",
    "from sklearn.tree import DecisionTreeClassifier\n",
    "from sklearn.ensemble import RandomForestClassifier "
   ]
  },
  {
   "cell_type": "markdown",
   "id": "empty-creativity",
   "metadata": {},
   "source": [
    " "
   ]
  },
  {
   "cell_type": "markdown",
   "id": "global-blanket",
   "metadata": {},
   "source": [
    "# Data Preprocessing and Visualisation"
   ]
  },
  {
   "cell_type": "code",
   "execution_count": 2,
   "id": "excited-person",
   "metadata": {},
   "outputs": [],
   "source": [
    "Train = pd.read_csv(\"train.csv\") # using CSV file"
   ]
  },
  {
   "cell_type": "code",
   "execution_count": 3,
   "id": "satisfied-somerset",
   "metadata": {},
   "outputs": [
    {
     "data": {
      "text/html": [
       "<div>\n",
       "<style scoped>\n",
       "    .dataframe tbody tr th:only-of-type {\n",
       "        vertical-align: middle;\n",
       "    }\n",
       "\n",
       "    .dataframe tbody tr th {\n",
       "        vertical-align: top;\n",
       "    }\n",
       "\n",
       "    .dataframe thead th {\n",
       "        text-align: right;\n",
       "    }\n",
       "</style>\n",
       "<table border=\"1\" class=\"dataframe\">\n",
       "  <thead>\n",
       "    <tr style=\"text-align: right;\">\n",
       "      <th></th>\n",
       "      <th>id</th>\n",
       "      <th>qid1</th>\n",
       "      <th>qid2</th>\n",
       "      <th>question1</th>\n",
       "      <th>question2</th>\n",
       "      <th>is_duplicate</th>\n",
       "    </tr>\n",
       "  </thead>\n",
       "  <tbody>\n",
       "    <tr>\n",
       "      <th>0</th>\n",
       "      <td>0</td>\n",
       "      <td>1</td>\n",
       "      <td>2</td>\n",
       "      <td>What is the step by step guide to invest in sh...</td>\n",
       "      <td>What is the step by step guide to invest in sh...</td>\n",
       "      <td>0</td>\n",
       "    </tr>\n",
       "    <tr>\n",
       "      <th>1</th>\n",
       "      <td>1</td>\n",
       "      <td>3</td>\n",
       "      <td>4</td>\n",
       "      <td>What is the story of Kohinoor (Koh-i-Noor) Dia...</td>\n",
       "      <td>What would happen if the Indian government sto...</td>\n",
       "      <td>0</td>\n",
       "    </tr>\n",
       "    <tr>\n",
       "      <th>2</th>\n",
       "      <td>2</td>\n",
       "      <td>5</td>\n",
       "      <td>6</td>\n",
       "      <td>How can I increase the speed of my internet co...</td>\n",
       "      <td>How can Internet speed be increased by hacking...</td>\n",
       "      <td>0</td>\n",
       "    </tr>\n",
       "    <tr>\n",
       "      <th>3</th>\n",
       "      <td>3</td>\n",
       "      <td>7</td>\n",
       "      <td>8</td>\n",
       "      <td>Why am I mentally very lonely? How can I solve...</td>\n",
       "      <td>Find the remainder when [math]23^{24}[/math] i...</td>\n",
       "      <td>0</td>\n",
       "    </tr>\n",
       "    <tr>\n",
       "      <th>4</th>\n",
       "      <td>4</td>\n",
       "      <td>9</td>\n",
       "      <td>10</td>\n",
       "      <td>Which one dissolve in water quikly sugar, salt...</td>\n",
       "      <td>Which fish would survive in salt water?</td>\n",
       "      <td>0</td>\n",
       "    </tr>\n",
       "  </tbody>\n",
       "</table>\n",
       "</div>"
      ],
      "text/plain": [
       "   id  qid1  qid2                                          question1  \\\n",
       "0   0     1     2  What is the step by step guide to invest in sh...   \n",
       "1   1     3     4  What is the story of Kohinoor (Koh-i-Noor) Dia...   \n",
       "2   2     5     6  How can I increase the speed of my internet co...   \n",
       "3   3     7     8  Why am I mentally very lonely? How can I solve...   \n",
       "4   4     9    10  Which one dissolve in water quikly sugar, salt...   \n",
       "\n",
       "                                           question2  is_duplicate  \n",
       "0  What is the step by step guide to invest in sh...             0  \n",
       "1  What would happen if the Indian government sto...             0  \n",
       "2  How can Internet speed be increased by hacking...             0  \n",
       "3  Find the remainder when [math]23^{24}[/math] i...             0  \n",
       "4            Which fish would survive in salt water?             0  "
      ]
     },
     "execution_count": 3,
     "metadata": {},
     "output_type": "execute_result"
    }
   ],
   "source": [
    "Train.head() "
   ]
  },
  {
   "cell_type": "code",
   "execution_count": 4,
   "id": "homeless-riding",
   "metadata": {},
   "outputs": [
    {
     "name": "stdout",
     "output_type": "stream",
     "text": [
      "No of Question pair 404290\n"
     ]
    }
   ],
   "source": [
    "print(f\"No of Question pair {Train.shape[0]}\") # no. of rows"
   ]
  },
  {
   "cell_type": "code",
   "execution_count": 5,
   "id": "excess-nicholas",
   "metadata": {},
   "outputs": [
    {
     "name": "stdout",
     "output_type": "stream",
     "text": [
      "<class 'pandas.core.frame.DataFrame'>\n",
      "RangeIndex: 404290 entries, 0 to 404289\n",
      "Data columns (total 6 columns):\n",
      " #   Column        Non-Null Count   Dtype \n",
      "---  ------        --------------   ----- \n",
      " 0   id            404290 non-null  int64 \n",
      " 1   qid1          404290 non-null  int64 \n",
      " 2   qid2          404290 non-null  int64 \n",
      " 3   question1     404289 non-null  object\n",
      " 4   question2     404288 non-null  object\n",
      " 5   is_duplicate  404290 non-null  int64 \n",
      "dtypes: int64(4), object(2)\n",
      "memory usage: 18.5+ MB\n"
     ]
    }
   ],
   "source": [
    "Train.info()"
   ]
  },
  {
   "cell_type": "code",
   "execution_count": 6,
   "id": "apart-contemporary",
   "metadata": {},
   "outputs": [
    {
     "data": {
      "text/plain": [
       "0    255027\n",
       "1    149263\n",
       "Name: is_duplicate, dtype: int64"
      ]
     },
     "execution_count": 6,
     "metadata": {},
     "output_type": "execute_result"
    }
   ],
   "source": [
    "Train.is_duplicate.value_counts() # 0 = not duplicate; 1 = duplicate"
   ]
  },
  {
   "cell_type": "code",
   "execution_count": 7,
   "id": "foster-desire",
   "metadata": {},
   "outputs": [],
   "source": [
    "#Train_on = 10000\n",
    "#Train = Train.head(Train_on)\n",
    "#Train.is_duplicate.value_counts()"
   ]
  },
  {
   "cell_type": "markdown",
   "id": "lesser-nashville",
   "metadata": {},
   "source": [
    " "
   ]
  },
  {
   "cell_type": "code",
   "execution_count": 8,
   "id": "colonial-setting",
   "metadata": {},
   "outputs": [
    {
     "name": "stdout",
     "output_type": "stream",
     "text": [
      "Total no. of unique question : 537933\n",
      "Total no. of question repeated: 111780\n",
      "Maximum time any question occurs : 157\n"
     ]
    }
   ],
   "source": [
    "# based on id diffren. the how many questions are unique\n",
    "qid = pd.Series(Train.qid1.to_list() + Train.qid2.to_list()) \n",
    "unique_questions = len(np.unique(qid)) \n",
    "no_repeat_qid = np.sum( qid.value_counts() > 1) # repeated\n",
    "\n",
    "print(\"Total no. of unique question :\",unique_questions)\n",
    "print(\"Total no. of question repeated:\",no_repeat_qid)\n",
    "print(\"Maximum time any question occurs :\", np.max(qid.value_counts()))"
   ]
  },
  {
   "cell_type": "code",
   "execution_count": 9,
   "id": "traditional-soccer",
   "metadata": {},
   "outputs": [
    {
     "data": {
      "image/png": "[encoded data removed]",
      "text/plain": [
       "<Figure size 360x360 with 1 Axes>"
      ]
     },
     "metadata": {},
     "output_type": "display_data"
    }
   ],
   "source": [
    "x = [\"unique_questions\" , \"Repeated Questions\"]\n",
    "y =  [unique_questions , no_repeat_qid ]\n",
    "\n",
    "plt.figure(figsize = (5,5))\n",
    "sns.barplot(x,y)\n",
    "plt.title(\"Plot of distribution of question \")\n",
    "plt.show()"
   ]
  },
  {
   "cell_type": "code",
   "execution_count": 10,
   "id": "steady-cache",
   "metadata": {},
   "outputs": [
    {
     "data": {
      "image/png": "[encoded data removed]",
      "text/plain": [
       "<Figure size 1440x720 with 1 Axes>"
      ]
     },
     "metadata": {},
     "output_type": "display_data"
    }
   ],
   "source": [
    "plt.figure(figsize= (20,10))\n",
    "plt.hist(qid.value_counts(),bins =80) # how many times a question is occuring\n",
    "plt.yscale('log', nonposy='clip')\n",
    "plt.xlabel(\"Occurance of any question\")\n",
    "plt.ylabel(\"No. of question\")\n",
    "plt.title(\"Plot of occurance of question\")\n",
    "plt.show()"
   ]
  },
  {
   "cell_type": "markdown",
   "id": "informative-deficit",
   "metadata": {},
   "source": [
    "Hence from above graphs we can easily assume that majorly every question has single occurance and there is one question which occurs 157 times."
   ]
  },
  {
   "cell_type": "code",
   "execution_count": 11,
   "id": "subsequent-shift",
   "metadata": {},
   "outputs": [],
   "source": [
    "#series = 1D array\n",
    "question1 = pd.Series(Train[\"question1\"])\n",
    "question2 = pd.Series(Train.question2)"
   ]
  },
  {
   "cell_type": "markdown",
   "id": "breeding-satin",
   "metadata": {},
   "source": [
    " "
   ]
  },
  {
   "cell_type": "markdown",
   "id": "racial-andorra",
   "metadata": {},
   "source": [
    "# Natural Language Processing"
   ]
  },
  {
   "cell_type": "code",
   "execution_count": 12,
   "id": "beneficial-heating",
   "metadata": {},
   "outputs": [
    {
     "data": {
      "text/plain": [
       "179"
      ]
     },
     "execution_count": 12,
     "metadata": {},
     "output_type": "execute_result"
    }
   ],
   "source": [
    "# pre-defined in library\n",
    "stop_words = set(stopwords.words(\"english\"))\n",
    "len(stop_words)"
   ]
  },
  {
   "cell_type": "code",
   "execution_count": 13,
   "id": "signed-publisher",
   "metadata": {},
   "outputs": [
    {
     "name": "stdout",
     "output_type": "stream",
     "text": [
      "{'any', 'o', \"it's\", 'him', 'when', 'ain', 'then', 'her', 'shouldn', 'ourselves', 'now', 'on', 'haven', 'they', 'such', 'there', 'after', 'don', 'hasn', 'under', 'as', 'do', 'for', 'same', 'my', \"couldn't\", 'herself', 'off', 'being', 'll', \"won't\", 'of', 'can', \"hadn't\", 'needn', 'was', 'that', \"that'll\", 'have', \"she's\", 'through', 'until', 'where', 't', 'or', 'y', \"isn't\", \"shouldn't\", 'you', 's', \"wasn't\", 'with', 'were', 'mightn', 'above', 'these', \"didn't\", 'both', 'been', 'this', \"you'll\", 'he', 'up', 'against', 'did', 'yours', 'themselves', 'very', 'about', 'those', 'during', 'our', 'hers', 'down', \"mightn't\", \"needn't\", 'out', 'i', 'wouldn', 'not', \"doesn't\", \"you're\", 'to', 'its', 'we', 'which', 'me', 'a', 'but', 'having', 'm', 'here', 'myself', 'itself', 'if', 'so', 'his', 'while', \"shan't\", 'should', 'shan', 'how', 'in', 'some', 'too', 'yourselves', 'because', 've', 'isn', 'couldn', 'ma', 'what', \"weren't\", \"mustn't\", 'ours', 'further', \"you'd\", 'into', 'aren', 'doesn', 'why', 'at', 'again', 'and', 'does', 'are', 're', 'whom', 'over', 'more', 'will', 'each', 'be', 'wasn', 'between', \"don't\", \"wouldn't\", 'himself', 'all', 'who', 'other', 'own', 'has', 'before', 'by', \"aren't\", \"you've\", 'their', 'theirs', 'few', 'below', 'yourself', 'the', \"should've\", 'an', \"hasn't\", 'doing', 'weren', 'them', \"haven't\", 'from', 'only', 'she', 'didn', 'd', 'hadn', 'most', 'it', 'had', 'no', 'just', 'am', 'won', 'is', 'once', 'your', 'nor', 'than', 'mustn'}\n"
     ]
    }
   ],
   "source": [
    "print(stop_words)"
   ]
  },
  {
   "cell_type": "code",
   "execution_count": 14,
   "id": "white-jenny",
   "metadata": {},
   "outputs": [
    {
     "name": "stderr",
     "output_type": "stream",
     "text": [
      "100%|███████████████████████████████████████████████████████████████████████| 404290/404290 [00:34<00:00, 11748.81it/s]\n",
      "100%|███████████████████████████████████████████████████████████████████████| 404290/404290 [00:35<00:00, 11258.97it/s]\n"
     ]
    }
   ],
   "source": [
    "preprocessed_q1 = []\n",
    "preprocessed_q2 = []\n",
    "\n",
    "def preprocess(x):\n",
    "    x = str(x).lower() # convert to lower case\n",
    "    x = x.replace(\",000,000\", \"m\").replace(\",000\", \"k\").replace(\"′\", \"'\").replace(\"’\", \"'\")\\\n",
    "                           .replace(\"won't\", \"will not\").replace(\"cannot\", \"can not\").replace(\"can't\", \"can not\")\\\n",
    "                           .replace(\"n't\", \" not\").replace(\"what's\", \"what is\").replace(\"it's\", \"it is\")\\\n",
    "                           .replace(\"'ve\", \" have\").replace(\"i'm\", \"i am\").replace(\"'re\", \" are\")\\\n",
    "                           .replace(\"he's\", \"he is\").replace(\"she's\", \"she is\").replace(\"'s\", \" own\")\\\n",
    "                           .replace(\"%\", \" percent \").replace(\"₹\", \" rupee \").replace(\"$\", \" dollar \")\\\n",
    "                           .replace(\"€\", \" euro \").replace(\"'ll\", \" will\")\n",
    "    x = re.sub(r\"([0-9]+)000000\", r\"\\1m\", x)\n",
    "    x = re.sub(r\"([0-9]+)000\", r\"\\1k\", x)\n",
    "    \n",
    "    x = x.split() # string to list\n",
    "    \n",
    "    stemmer = SnowballStemmer(language= \"english\") \n",
    "    string = \"\"\n",
    "    for word in x:\n",
    "        if word not in stop_words and word.strip() != \"\":\n",
    "            word = stemmer.stem(word) # convert every word to present tense\n",
    "            string += word + \" \" # convert back to string\n",
    "            \n",
    "    return string.strip() # remove white space\n",
    "\n",
    "for question in tqdm(question1):\n",
    "    preprocessed_q1.append(preprocess(question))\n",
    "    \n",
    "for question in tqdm(question2):\n",
    "    preprocessed_q2.append(preprocess(question))"
   ]
  },
  {
   "cell_type": "code",
   "execution_count": 15,
   "id": "actual-jurisdiction",
   "metadata": {},
   "outputs": [
    {
     "data": {
      "text/plain": [
       "['step step guid invest share market india?',\n",
       " 'stori kohinoor (koh-i-noor) diamond?',\n",
       " 'increas speed internet connect use vpn?',\n",
       " 'mental lonely? solv it?']"
      ]
     },
     "execution_count": 15,
     "metadata": {},
     "output_type": "execute_result"
    }
   ],
   "source": [
    "preprocessed_q1[:4]"
   ]
  },
  {
   "cell_type": "code",
   "execution_count": 16,
   "id": "cultural-vault",
   "metadata": {},
   "outputs": [],
   "source": [
    "tfidf = TfidfVectorizer() \n",
    "q1_vec = tfidf.fit_transform(preprocessed_q1)\n",
    "q2_vec = tfidf.fit_transform(preprocessed_q2)"
   ]
  },
  {
   "cell_type": "code",
   "execution_count": 17,
   "id": "exciting-northern",
   "metadata": {},
   "outputs": [
    {
     "name": "stdout",
     "output_type": "stream",
     "text": [
      "(404290, 65863)\n",
      "(404290, 60639)\n"
     ]
    }
   ],
   "source": [
    "print(q1_vec.shape) \n",
    "print(q2_vec.shape) \n",
    "#print(q1_vec[0])"
   ]
  },
  {
   "cell_type": "markdown",
   "id": "graduate-communist",
   "metadata": {},
   "source": [
    " "
   ]
  },
  {
   "cell_type": "markdown",
   "id": "recognized-gender",
   "metadata": {},
   "source": [
    "# Dimentionality Reduction and Data Formatting"
   ]
  },
  {
   "cell_type": "code",
   "execution_count": 18,
   "id": "significant-scientist",
   "metadata": {},
   "outputs": [],
   "source": [
    "svd = TruncatedSVD(n_components = 200) # reduce dimension\n",
    "q1_vec = svd.fit_transform(q1_vec)"
   ]
  },
  {
   "cell_type": "code",
   "execution_count": 19,
   "id": "identical-hampton",
   "metadata": {},
   "outputs": [],
   "source": [
    "q2_vec = svd.fit_transform(q2_vec)"
   ]
  },
  {
   "cell_type": "code",
   "execution_count": 20,
   "id": "racial-malawi",
   "metadata": {},
   "outputs": [
    {
     "data": {
      "text/plain": [
       "404290"
      ]
     },
     "execution_count": 20,
     "metadata": {},
     "output_type": "execute_result"
    }
   ],
   "source": [
    "len(q2_vec)"
   ]
  },
  {
   "cell_type": "code",
   "execution_count": 21,
   "id": "abandoned-malta",
   "metadata": {},
   "outputs": [],
   "source": [
    "Xtrain1 = pd.DataFrame(q1_vec)\n",
    "Xtrain1[\"id\"] = [i for i in range(len(q2_vec))]\n",
    "Xtrain2 = pd.DataFrame(q2_vec)\n",
    "Xtrain2[\"id\"] = [i for i in range(len(q2_vec))]\n",
    "\n",
    "Xtrain = Xtrain1.merge(Xtrain2 , on = \"id\" , how = \"left\") # join the vectors"
   ]
  },
  {
   "cell_type": "code",
   "execution_count": 22,
   "id": "disturbed-contractor",
   "metadata": {},
   "outputs": [
    {
     "name": "stdout",
     "output_type": "stream",
     "text": [
      "(404290, 401)\n"
     ]
    },
    {
     "data": {
      "text/html": [
       "<div>\n",
       "<style scoped>\n",
       "    .dataframe tbody tr th:only-of-type {\n",
       "        vertical-align: middle;\n",
       "    }\n",
       "\n",
       "    .dataframe tbody tr th {\n",
       "        vertical-align: top;\n",
       "    }\n",
       "\n",
       "    .dataframe thead th {\n",
       "        text-align: right;\n",
       "    }\n",
       "</style>\n",
       "<table border=\"1\" class=\"dataframe\">\n",
       "  <thead>\n",
       "    <tr style=\"text-align: right;\">\n",
       "      <th></th>\n",
       "      <th>0_x</th>\n",
       "      <th>1_x</th>\n",
       "      <th>2_x</th>\n",
       "      <th>3_x</th>\n",
       "      <th>4_x</th>\n",
       "      <th>5_x</th>\n",
       "      <th>6_x</th>\n",
       "      <th>7_x</th>\n",
       "      <th>8_x</th>\n",
       "      <th>9_x</th>\n",
       "      <th>...</th>\n",
       "      <th>190_y</th>\n",
       "      <th>191_y</th>\n",
       "      <th>192_y</th>\n",
       "      <th>193_y</th>\n",
       "      <th>194_y</th>\n",
       "      <th>195_y</th>\n",
       "      <th>196_y</th>\n",
       "      <th>197_y</th>\n",
       "      <th>198_y</th>\n",
       "      <th>199_y</th>\n",
       "    </tr>\n",
       "  </thead>\n",
       "  <tbody>\n",
       "    <tr>\n",
       "      <th>0</th>\n",
       "      <td>0.046584</td>\n",
       "      <td>0.005741</td>\n",
       "      <td>0.044117</td>\n",
       "      <td>-0.033217</td>\n",
       "      <td>-0.022881</td>\n",
       "      <td>0.119593</td>\n",
       "      <td>0.005375</td>\n",
       "      <td>0.044345</td>\n",
       "      <td>-0.002952</td>\n",
       "      <td>-0.079463</td>\n",
       "      <td>...</td>\n",
       "      <td>-0.000634</td>\n",
       "      <td>-0.012572</td>\n",
       "      <td>-0.026025</td>\n",
       "      <td>-0.010176</td>\n",
       "      <td>-0.011136</td>\n",
       "      <td>0.007910</td>\n",
       "      <td>-0.014569</td>\n",
       "      <td>-0.005540</td>\n",
       "      <td>0.017556</td>\n",
       "      <td>-0.026540</td>\n",
       "    </tr>\n",
       "    <tr>\n",
       "      <th>1</th>\n",
       "      <td>0.002520</td>\n",
       "      <td>0.000595</td>\n",
       "      <td>0.000687</td>\n",
       "      <td>-0.001951</td>\n",
       "      <td>-0.001228</td>\n",
       "      <td>-0.000537</td>\n",
       "      <td>-0.001195</td>\n",
       "      <td>-0.000102</td>\n",
       "      <td>0.000336</td>\n",
       "      <td>-0.000448</td>\n",
       "      <td>...</td>\n",
       "      <td>0.046448</td>\n",
       "      <td>0.001229</td>\n",
       "      <td>0.027704</td>\n",
       "      <td>-0.005173</td>\n",
       "      <td>0.049155</td>\n",
       "      <td>0.037439</td>\n",
       "      <td>-0.009728</td>\n",
       "      <td>0.039097</td>\n",
       "      <td>0.002822</td>\n",
       "      <td>0.003016</td>\n",
       "    </tr>\n",
       "    <tr>\n",
       "      <th>2</th>\n",
       "      <td>0.027727</td>\n",
       "      <td>0.027320</td>\n",
       "      <td>0.020188</td>\n",
       "      <td>-0.004656</td>\n",
       "      <td>0.003830</td>\n",
       "      <td>-0.009205</td>\n",
       "      <td>0.015683</td>\n",
       "      <td>0.006733</td>\n",
       "      <td>0.008755</td>\n",
       "      <td>0.000667</td>\n",
       "      <td>...</td>\n",
       "      <td>0.157958</td>\n",
       "      <td>-0.021080</td>\n",
       "      <td>0.019835</td>\n",
       "      <td>0.110586</td>\n",
       "      <td>0.074283</td>\n",
       "      <td>-0.030465</td>\n",
       "      <td>-0.042270</td>\n",
       "      <td>-0.060709</td>\n",
       "      <td>-0.110993</td>\n",
       "      <td>-0.024997</td>\n",
       "    </tr>\n",
       "    <tr>\n",
       "      <th>3</th>\n",
       "      <td>0.009995</td>\n",
       "      <td>0.014316</td>\n",
       "      <td>0.008882</td>\n",
       "      <td>-0.010214</td>\n",
       "      <td>-0.000115</td>\n",
       "      <td>-0.002287</td>\n",
       "      <td>0.003632</td>\n",
       "      <td>0.001339</td>\n",
       "      <td>0.003757</td>\n",
       "      <td>0.003820</td>\n",
       "      <td>...</td>\n",
       "      <td>-0.009715</td>\n",
       "      <td>-0.004178</td>\n",
       "      <td>0.002053</td>\n",
       "      <td>-0.001774</td>\n",
       "      <td>-0.006049</td>\n",
       "      <td>-0.000302</td>\n",
       "      <td>0.005548</td>\n",
       "      <td>0.004893</td>\n",
       "      <td>-0.008396</td>\n",
       "      <td>0.006196</td>\n",
       "    </tr>\n",
       "    <tr>\n",
       "      <th>4</th>\n",
       "      <td>0.011000</td>\n",
       "      <td>0.011724</td>\n",
       "      <td>0.013365</td>\n",
       "      <td>-0.016062</td>\n",
       "      <td>-0.005997</td>\n",
       "      <td>-0.011066</td>\n",
       "      <td>0.000095</td>\n",
       "      <td>0.004834</td>\n",
       "      <td>-0.002699</td>\n",
       "      <td>-0.002082</td>\n",
       "      <td>...</td>\n",
       "      <td>-0.039910</td>\n",
       "      <td>0.003324</td>\n",
       "      <td>-0.001270</td>\n",
       "      <td>0.003712</td>\n",
       "      <td>0.019944</td>\n",
       "      <td>-0.020166</td>\n",
       "      <td>0.005663</td>\n",
       "      <td>-0.008450</td>\n",
       "      <td>0.007799</td>\n",
       "      <td>-0.028291</td>\n",
       "    </tr>\n",
       "  </tbody>\n",
       "</table>\n",
       "<p>5 rows × 401 columns</p>\n",
       "</div>"
      ],
      "text/plain": [
       "        0_x       1_x       2_x       3_x       4_x       5_x       6_x  \\\n",
       "0  0.046584  0.005741  0.044117 -0.033217 -0.022881  0.119593  0.005375   \n",
       "1  0.002520  0.000595  0.000687 -0.001951 -0.001228 -0.000537 -0.001195   \n",
       "2  0.027727  0.027320  0.020188 -0.004656  0.003830 -0.009205  0.015683   \n",
       "3  0.009995  0.014316  0.008882 -0.010214 -0.000115 -0.002287  0.003632   \n",
       "4  0.011000  0.011724  0.013365 -0.016062 -0.005997 -0.011066  0.000095   \n",
       "\n",
       "        7_x       8_x       9_x  ...     190_y     191_y     192_y     193_y  \\\n",
       "0  0.044345 -0.002952 -0.079463  ... -0.000634 -0.012572 -0.026025 -0.010176   \n",
       "1 -0.000102  0.000336 -0.000448  ...  0.046448  0.001229  0.027704 -0.005173   \n",
       "2  0.006733  0.008755  0.000667  ...  0.157958 -0.021080  0.019835  0.110586   \n",
       "3  0.001339  0.003757  0.003820  ... -0.009715 -0.004178  0.002053 -0.001774   \n",
       "4  0.004834 -0.002699 -0.002082  ... -0.039910  0.003324 -0.001270  0.003712   \n",
       "\n",
       "      194_y     195_y     196_y     197_y     198_y     199_y  \n",
       "0 -0.011136  0.007910 -0.014569 -0.005540  0.017556 -0.026540  \n",
       "1  0.049155  0.037439 -0.009728  0.039097  0.002822  0.003016  \n",
       "2  0.074283 -0.030465 -0.042270 -0.060709 -0.110993 -0.024997  \n",
       "3 -0.006049 -0.000302  0.005548  0.004893 -0.008396  0.006196  \n",
       "4  0.019944 -0.020166  0.005663 -0.008450  0.007799 -0.028291  \n",
       "\n",
       "[5 rows x 401 columns]"
      ]
     },
     "execution_count": 22,
     "metadata": {},
     "output_type": "execute_result"
    }
   ],
   "source": [
    "print(Xtrain.shape)\n",
    "Xtrain.head()"
   ]
  },
  {
   "cell_type": "code",
   "execution_count": 23,
   "id": "daily-catering",
   "metadata": {},
   "outputs": [],
   "source": [
    "Scaler = StandardScaler()\n",
    "Xtrain = Scaler.fit_transform(Xtrain)\n",
    "#print(Xtrain)"
   ]
  },
  {
   "cell_type": "code",
   "execution_count": 24,
   "id": "australian-hayes",
   "metadata": {},
   "outputs": [],
   "source": [
    "Xtrain = pd.DataFrame(Xtrain)\n",
    "Xtrain.head()\n",
    "Ytrain = pd.Series(Train.is_duplicate)"
   ]
  },
  {
   "cell_type": "code",
   "execution_count": 25,
   "id": "compact-wallace",
   "metadata": {},
   "outputs": [],
   "source": [
    "X_train , X_test , Y_train , Y_test = train_test_split(Xtrain, Ytrain) # 75:25"
   ]
  },
  {
   "cell_type": "code",
   "execution_count": 26,
   "id": "naughty-transport",
   "metadata": {},
   "outputs": [
    {
     "name": "stdout",
     "output_type": "stream",
     "text": [
      "(303217, 401) (303217,)\n",
      "(101073, 401) (101073,)\n"
     ]
    }
   ],
   "source": [
    "print(X_train.shape, Y_train.shape)\n",
    "print(X_test.shape, Y_test.shape)"
   ]
  },
  {
   "cell_type": "markdown",
   "id": "metallic-buyer",
   "metadata": {},
   "source": [
    " "
   ]
  },
  {
   "cell_type": "code",
   "execution_count": 27,
   "id": "abroad-domain",
   "metadata": {},
   "outputs": [],
   "source": [
    "model_accuracy = []\n",
    "model_fm = []"
   ]
  },
  {
   "cell_type": "markdown",
   "id": "dietary-syracuse",
   "metadata": {},
   "source": [
    "# Using Logistic Regression"
   ]
  },
  {
   "cell_type": "code",
   "execution_count": 28,
   "id": "native-lawsuit",
   "metadata": {},
   "outputs": [
    {
     "name": "stdout",
     "output_type": "stream",
     "text": [
      "Accuracy :  0.7063013861268588\n",
      "Confusion Matrix : \n",
      " [[57433  6243]\n",
      " [23442 13955]]\n",
      "f-measure :  0.48459067627398206\n"
     ]
    }
   ],
   "source": [
    "model = LogisticRegression()\n",
    "model.fit(X_train,Y_train)\n",
    "y_pred = model.predict(X_test)\n",
    "print(\"Accuracy : \" ,accuracy_score(Y_test , y_pred))\n",
    "model_accuracy.append(accuracy_score(Y_test , y_pred))\n",
    "print(\"Confusion Matrix : \\n\" ,confusion_matrix(Y_test , y_pred))\n",
    "print(\"f-measure : \" ,f1_score(Y_test , y_pred))\n",
    "model_fm.append(f1_score(Y_test , y_pred))"
   ]
  },
  {
   "cell_type": "code",
   "execution_count": 29,
   "id": "innocent-egypt",
   "metadata": {},
   "outputs": [
    {
     "data": {
      "image/png": "[encoded data removed]",
      "text/plain": [
       "<Figure size 432x288 with 2 Axes>"
      ]
     },
     "metadata": {},
     "output_type": "display_data"
    }
   ],
   "source": [
    "#plt.imshow(confusion_matrix(Y_test , y_pred))\n",
    "\n",
    "cf_matrix = confusion_matrix(Y_test , y_pred)\n",
    "group_names = [\"True Neg\",\"False Pos\",\"False Neg\",\"True Pos\"]\n",
    "group_counts = [\"{0:0.0f}\".format(value) for value in\n",
    "                cf_matrix.flatten()]\n",
    "\n",
    "labels = [f\"{v1}\\n\\n{v2}\" for v1, v2 in\n",
    "          zip(group_names,group_counts)]\n",
    "\n",
    "labels = np.asarray(labels).reshape(2,2)\n",
    "sns.heatmap(cf_matrix, annot=labels, fmt='', cmap='Greens')\n",
    "plt.grid(b=None)\n",
    "\n",
    "plt.show()"
   ]
  },
  {
   "cell_type": "markdown",
   "id": "delayed-membership",
   "metadata": {},
   "source": [
    "<H1> Linear SVC </H1>"
   ]
  },
  {
   "cell_type": "code",
   "execution_count": 30,
   "id": "anticipated-bunch",
   "metadata": {},
   "outputs": [
    {
     "name": "stdout",
     "output_type": "stream",
     "text": [
      "Accuracy :  0.6931326862762558\n",
      "Confusion Matrix : \n",
      " [[55985  7691]\n",
      " [23325 14072]]\n",
      "f-measure :  0.4757268424611224\n"
     ]
    }
   ],
   "source": [
    "model = LinearSVC()\n",
    "model.fit(X_train,Y_train)\n",
    "y_pred = model.predict(X_test)\n",
    "print(\"Accuracy : \" ,accuracy_score(Y_test , y_pred))\n",
    "model_accuracy.append(accuracy_score(Y_test , y_pred))\n",
    "print(\"Confusion Matrix : \\n\" ,confusion_matrix(Y_test , y_pred))\n",
    "print(\"f-measure : \" ,f1_score(Y_test , y_pred))\n",
    "model_fm.append(f1_score(Y_test , y_pred))"
   ]
  },
  {
   "cell_type": "code",
   "execution_count": 31,
   "id": "flying-chambers",
   "metadata": {},
   "outputs": [
    {
     "data": {
      "image/png": "[encoded data removed]",
      "text/plain": [
       "<Figure size 432x288 with 2 Axes>"
      ]
     },
     "metadata": {},
     "output_type": "display_data"
    }
   ],
   "source": [
    "cf_matrix = confusion_matrix(Y_test , y_pred)\n",
    "group_names = [\"True Neg\",\"False Pos\",\"False Neg\",\"True Pos\"]\n",
    "group_counts = [\"{0:0.0f}\".format(value) for value in\n",
    "                cf_matrix.flatten()]\n",
    "\n",
    "labels = [f\"{v1}\\n\\n{v2}\" for v1, v2 in\n",
    "          zip(group_names,group_counts)]\n",
    "\n",
    "labels = np.asarray(labels).reshape(2,2)\n",
    "sns.heatmap(cf_matrix, annot=labels, fmt='', cmap='Purples')\n",
    "plt.grid(b=None)\n",
    "\n",
    "plt.show()"
   ]
  },
  {
   "cell_type": "markdown",
   "id": "latest-maximum",
   "metadata": {},
   "source": [
    "<H1> SVC (support vector classification)</H1> "
   ]
  },
  {
   "cell_type": "code",
   "execution_count": null,
   "id": "demanding-policy",
   "metadata": {},
   "outputs": [],
   "source": [
    "model = SVC()\n",
    "model.fit(X_train,Y_train)\n",
    "y_pred = model.predict(X_test)\n",
    "print(\"Accuracy : \" ,accuracy_score(Y_test , y_pred))\n",
    "model_accuracy.append(accuracy_score(Y_test , y_pred))\n",
    "print(\"Confusion Matrix : \\n\" ,confusion_matrix(Y_test , y_pred))\n",
    "print(\"f-measure : \" ,f1_score(Y_test , y_pred))\n",
    "model_fm.append(f1_score(Y_test , y_pred))"
   ]
  },
  {
   "cell_type": "code",
   "execution_count": null,
   "id": "national-casting",
   "metadata": {},
   "outputs": [],
   "source": [
    "cf_matrix = confusion_matrix(Y_test , y_pred)\n",
    "group_names = [\"True Neg\",\"False Pos\",\"False Neg\",\"True Pos\"]\n",
    "group_counts = [\"{0:0.0f}\".format(value) for value in\n",
    "                cf_matrix.flatten()]\n",
    "\n",
    "labels = [f\"{v1}\\n\\n{v2}\" for v1, v2 in\n",
    "          zip(group_names,group_counts)]\n",
    "\n",
    "labels = np.asarray(labels).reshape(2,2)\n",
    "sns.heatmap(cf_matrix, annot=labels, fmt='', cmap='Red')\n",
    "plt.grid(b=None)\n",
    "\n",
    "plt.show()"
   ]
  },
  {
   "cell_type": "markdown",
   "id": "colonial-choice",
   "metadata": {},
   "source": [
    "# Decision Tree Classifier"
   ]
  },
  {
   "cell_type": "code",
   "execution_count": 32,
   "id": "fancy-piano",
   "metadata": {},
   "outputs": [
    {
     "name": "stdout",
     "output_type": "stream",
     "text": [
      "Accuracy :  0.6987128115322588\n",
      "Confusion Matrix : \n",
      " [[47225 16451]\n",
      " [14001 23396]]\n",
      "f-measure :  0.6057687328465641\n"
     ]
    }
   ],
   "source": [
    "model = DecisionTreeClassifier()\n",
    "model.fit(X_train,Y_train)\n",
    "y_pred = model.predict(X_test)\n",
    "print(\"Accuracy : \" ,accuracy_score(Y_test , y_pred))\n",
    "model_accuracy.append(accuracy_score(Y_test , y_pred))\n",
    "print(\"Confusion Matrix : \\n\" ,confusion_matrix(Y_test , y_pred))\n",
    "print(\"f-measure : \" ,f1_score(Y_test , y_pred))\n",
    "model_fm.append(f1_score(Y_test , y_pred))"
   ]
  },
  {
   "cell_type": "code",
   "execution_count": 33,
   "id": "novel-debate",
   "metadata": {},
   "outputs": [
    {
     "data": {
      "image/png": "[encoded data removed]",
      "text/plain": [
       "<Figure size 432x288 with 2 Axes>"
      ]
     },
     "metadata": {},
     "output_type": "display_data"
    }
   ],
   "source": [
    "\n",
    "cf_matrix = confusion_matrix(Y_test , y_pred)\n",
    "group_names = [\"True Neg\",\"False Pos\",\"False Neg\",\"True Pos\"]\n",
    "group_counts = [\"{0:0.0f}\".format(value) for value in\n",
    "                cf_matrix.flatten()]\n",
    "\n",
    "labels = [f\"{v1}\\n\\n{v2}\" for v1, v2 in\n",
    "          zip(group_names,group_counts)]\n",
    "labels = np.asarray(labels).reshape(2,2)\n",
    "\n",
    "cf_matrixn = cf_matrix.astype('float') / cf_matrix.sum(axis=1)[:, np.newaxis]\n",
    "\n",
    "sns.heatmap(cf_matrixn, annot=labels, fmt='', cmap='Oranges')\n",
    "\n",
    "plt.grid(b=None)\n",
    "\n",
    "plt.show()"
   ]
  },
  {
   "cell_type": "code",
   "execution_count": 34,
   "id": "horizontal-magic",
   "metadata": {},
   "outputs": [
    {
     "data": {
      "text/plain": [
       "<AxesSubplot:>"
      ]
     },
     "execution_count": 34,
     "metadata": {},
     "output_type": "execute_result"
    },
    {
     "data": {
      "image/png": "[encoded data removed]",
      "text/plain": [
       "<Figure size 432x288 with 2 Axes>"
      ]
     },
     "metadata": {},
     "output_type": "display_data"
    }
   ],
   "source": [
    "sns.heatmap(cf_matrix, annot=labels, fmt='', cmap='Oranges')"
   ]
  },
  {
   "cell_type": "markdown",
   "id": "destroyed-hotel",
   "metadata": {},
   "source": [
    "# Random Forest Classifier"
   ]
  },
  {
   "cell_type": "code",
   "execution_count": 35,
   "id": "generic-graphic",
   "metadata": {},
   "outputs": [
    {
     "name": "stdout",
     "output_type": "stream",
     "text": [
      "Accuracy :  0.7965035172598023\n",
      "Confusion Matrix : \n",
      " [[58931  4745]\n",
      " [15823 21574]]\n",
      "f-measure :  0.6771925419047021\n"
     ]
    }
   ],
   "source": [
    "model = RandomForestClassifier(n_jobs=-1)\n",
    "model.fit(X_train,Y_train)\n",
    "y_pred = model.predict(X_test)\n",
    "print(\"Accuracy : \" ,accuracy_score(Y_test , y_pred))\n",
    "model_accuracy.append(accuracy_score(Y_test , y_pred))\n",
    "print(\"Confusion Matrix : \\n\" ,confusion_matrix(Y_test , y_pred))\n",
    "print(\"f-measure : \" ,f1_score(Y_test , y_pred))\n",
    "model_fm.append(f1_score(Y_test , y_pred))"
   ]
  },
  {
   "cell_type": "code",
   "execution_count": 36,
   "id": "rocky-pound",
   "metadata": {},
   "outputs": [
    {
     "data": {
      "image/png": "[encoded data removed]",
      "text/plain": [
       "<Figure size 432x288 with 2 Axes>"
      ]
     },
     "metadata": {},
     "output_type": "display_data"
    }
   ],
   "source": [
    "cf_matrix = confusion_matrix(Y_test , y_pred)\n",
    "group_names = [\"True Neg\",\"False Pos\",\"False Neg\",\"True Pos\"]\n",
    "group_counts = [\"{0:0.0f}\".format(value) for value in\n",
    "                cf_matrix.flatten()]\n",
    "\n",
    "labels = [f\"{v1}\\n\\n{v2}\" for v1, v2 in\n",
    "          zip(group_names,group_counts)]\n",
    "\n",
    "labels = np.asarray(labels).reshape(2,2)\n",
    "sns.heatmap(cf_matrix, annot=labels, fmt='', cmap='Blues')\n",
    "plt.grid(b=None)\n",
    "\n",
    "plt.show()"
   ]
  },
  {
   "cell_type": "markdown",
   "id": "waiting-neighborhood",
   "metadata": {},
   "source": [
    " "
   ]
  },
  {
   "cell_type": "markdown",
   "id": "hearing-happening",
   "metadata": {},
   "source": [
    "# Model Comparison"
   ]
  },
  {
   "cell_type": "code",
   "execution_count": 37,
   "id": "documented-baking",
   "metadata": {},
   "outputs": [
    {
     "data": {
      "image/png": "[encoded data removed]",
      "text/plain": [
       "<Figure size 1080x576 with 1 Axes>"
      ]
     },
     "metadata": {},
     "output_type": "display_data"
    }
   ],
   "source": [
    "model_name = [\"Logistic Regression\", \"Linear SVC\", \"Decision Tree Classifier\", \"Random Forest Classifier\"]\n",
    "plt.figure(figsize = (15,8))\n",
    "plt.plot(np.arange(len(model_accuracy)), model_accuracy, linewidth = 5)\n",
    "plt.xticks(np.arange(len(model_name)), model_name)\n",
    "plt.title(\"Model Evaluation: Accuracy\",size = 20)\n",
    "plt.ylabel(\"Accuracy\",size = 15)\n",
    "plt.xlabel(\"Algorithm\",size = 15)\n",
    "plt.scatter(np.arange(len(model_accuracy)), model_accuracy,c = \"g\",s = 500)\n",
    "plt.show()"
   ]
  },
  {
   "cell_type": "markdown",
   "id": "fitted-click",
   "metadata": {},
   "source": [
    " "
   ]
  },
  {
   "cell_type": "code",
   "execution_count": 38,
   "id": "amended-chance",
   "metadata": {},
   "outputs": [
    {
     "data": {
      "image/png": "[encoded data removed]",
      "text/plain": [
       "<Figure size 1080x576 with 1 Axes>"
      ]
     },
     "metadata": {},
     "output_type": "display_data"
    }
   ],
   "source": [
    "model_name = [\"Logistic Regression\", \"Linear SVC\", \"Decision Tree Classifier\", \"Random Forest Classifier\"]\n",
    "plt.figure(figsize = (15,8))\n",
    "plt.plot(np.arange(len(model_fm)), model_fm, linewidth = 5)\n",
    "plt.xticks(np.arange(len(model_name)), model_name)\n",
    "plt.title(\"Model Evaluation: f-measure\",size = 20)\n",
    "plt.ylabel(\"f-measure\",size = 15)\n",
    "plt.xlabel(\"Algorithm\",size = 15)\n",
    "plt.scatter(np.arange(len(model_fm)), model_fm,c = \"g\",s = 500)\n",
    "plt.show()"
   ]
  },
  {
   "cell_type": "code",
   "execution_count": null,
   "id": "ahead-bullet",
   "metadata": {},
   "outputs": [],
   "source": []
  }
 ],
 "metadata": {
  "kernelspec": {
   "display_name": "Python 3",
   "language": "python",
   "name": "python3"
  },
  "language_info": {
   "codemirror_mode": {
    "name": "ipython",
    "version": 3
   },
   "file_extension": ".py",
   "mimetype": "text/x-python",
   "name": "python",
   "nbconvert_exporter": "python",
   "pygments_lexer": "ipython3",
   "version": "3.7.9"
  }
 },
 "nbformat": 4,
 "nbformat_minor": 5
}
